{
 "cells": [
  {
   "cell_type": "code",
   "execution_count": 105,
   "metadata": {},
   "outputs": [],
   "source": [
    "import pandas as ps\n",
    "import re\n",
    "import nltk\n",
    "from sklearn.feature_extraction.text import TfidfVectorizer\n",
    "from nltk.corpus import stopwords\n",
    "from sklearn.metrics import pairwise"
   ]
  },
  {
   "cell_type": "code",
   "execution_count": 148,
   "metadata": {},
   "outputs": [],
   "source": [
    "positions = ps.read_csv('slack/data/vl_onet_nomralized.csv', encoding='utf-8')"
   ]
  },
  {
   "cell_type": "code",
   "execution_count": 117,
   "metadata": {},
   "outputs": [
    {
     "data": {
      "text/plain": [
       "(61345, 4)"
      ]
     },
     "execution_count": 117,
     "metadata": {},
     "output_type": "execute_result"
    }
   ],
   "source": [
    "positions.shape"
   ]
  },
  {
   "cell_type": "code",
   "execution_count": 73,
   "metadata": {},
   "outputs": [
    {
     "data": {
      "text/html": [
       "<div>\n",
       "<style scoped>\n",
       "    .dataframe tbody tr th:only-of-type {\n",
       "        vertical-align: middle;\n",
       "    }\n",
       "\n",
       "    .dataframe tbody tr th {\n",
       "        vertical-align: top;\n",
       "    }\n",
       "\n",
       "    .dataframe thead th {\n",
       "        text-align: right;\n",
       "    }\n",
       "</style>\n",
       "<table border=\"1\" class=\"dataframe\">\n",
       "  <thead>\n",
       "    <tr style=\"text-align: right;\">\n",
       "      <th></th>\n",
       "      <th>SOC_Code</th>\n",
       "      <th>Title</th>\n",
       "      <th>Alternate_Title</th>\n",
       "      <th>Source</th>\n",
       "    </tr>\n",
       "  </thead>\n",
       "  <tbody>\n",
       "    <tr>\n",
       "      <th>0</th>\n",
       "      <td>11-1011.00</td>\n",
       "      <td>Chief Executives</td>\n",
       "      <td>Aeronautics Commission Director</td>\n",
       "      <td>8</td>\n",
       "    </tr>\n",
       "    <tr>\n",
       "      <th>1</th>\n",
       "      <td>11-1011.00</td>\n",
       "      <td>Chief Executives</td>\n",
       "      <td>Agricultural Services Director</td>\n",
       "      <td>8</td>\n",
       "    </tr>\n",
       "    <tr>\n",
       "      <th>2</th>\n",
       "      <td>11-1011.00</td>\n",
       "      <td>Chief Executives</td>\n",
       "      <td>Alcohol and Drug Abuse Assistance Program Admi...</td>\n",
       "      <td>8</td>\n",
       "    </tr>\n",
       "    <tr>\n",
       "      <th>3</th>\n",
       "      <td>11-1011.00</td>\n",
       "      <td>Chief Executives</td>\n",
       "      <td>Arts and Humanities Council Director</td>\n",
       "      <td>8</td>\n",
       "    </tr>\n",
       "    <tr>\n",
       "      <th>4</th>\n",
       "      <td>11-1011.00</td>\n",
       "      <td>Chief Executives</td>\n",
       "      <td>Bakery Manager</td>\n",
       "      <td>8</td>\n",
       "    </tr>\n",
       "  </tbody>\n",
       "</table>\n",
       "</div>"
      ],
      "text/plain": [
       "     SOC_Code             Title  \\\n",
       "0  11-1011.00  Chief Executives   \n",
       "1  11-1011.00  Chief Executives   \n",
       "2  11-1011.00  Chief Executives   \n",
       "3  11-1011.00  Chief Executives   \n",
       "4  11-1011.00  Chief Executives   \n",
       "\n",
       "                                     Alternate_Title Source  \n",
       "0                    Aeronautics Commission Director      8  \n",
       "1                     Agricultural Services Director      8  \n",
       "2  Alcohol and Drug Abuse Assistance Program Admi...      8  \n",
       "3               Arts and Humanities Council Director      8  \n",
       "4                                     Bakery Manager      8  "
      ]
     },
     "execution_count": 73,
     "metadata": {},
     "output_type": "execute_result"
    }
   ],
   "source": [
    "positions.head(5)"
   ]
  },
  {
   "cell_type": "code",
   "execution_count": 106,
   "metadata": {},
   "outputs": [],
   "source": [
    "def preprocessInput(inputPos):\n",
    "    output = ''\n",
    "    stop_words = set(stopwords.words('english'))\n",
    "    outputPos = re.sub('[^a-zA-Z0-9]', ' ', inputPos)\n",
    "    #collapase whitespaces, and lower case\n",
    "    outputPos = re.sub(r'\\W+', ' ', outputPos).lower()\n",
    "        \n",
    "    outputPosList = outputPos.split(' ')\n",
    "        \n",
    "    for w in outputPosList:\n",
    "        if w not in stop_words:\n",
    "            output = output + w + ' '\n",
    "    \n",
    "    output = output.rstrip()\n",
    "    \n",
    "    return output"
   ]
  },
  {
   "cell_type": "code",
   "execution_count": 107,
   "metadata": {},
   "outputs": [],
   "source": [
    "def ngrams(string, n=3):\n",
    "    ngrams = zip(*[string[i:] for i in range(n)])\n",
    "    return [''.join(ngram) for ngram in ngrams]"
   ]
  },
  {
   "cell_type": "code",
   "execution_count": 76,
   "metadata": {},
   "outputs": [
    {
     "data": {
      "text/plain": [
       "['aer',\n",
       " 'ero',\n",
       " 'ron',\n",
       " 'ona',\n",
       " 'nau',\n",
       " 'aut',\n",
       " 'uti',\n",
       " 'tic',\n",
       " 'ics',\n",
       " 'cs ',\n",
       " 's c',\n",
       " ' co',\n",
       " 'com',\n",
       " 'omm',\n",
       " 'mmi',\n",
       " 'mis',\n",
       " 'iss',\n",
       " 'ssi',\n",
       " 'sio',\n",
       " 'ion',\n",
       " 'on ',\n",
       " 'n d',\n",
       " ' di',\n",
       " 'dir',\n",
       " 'ire',\n",
       " 'rec',\n",
       " 'ect',\n",
       " 'cto',\n",
       " 'tor']"
      ]
     },
     "execution_count": 76,
     "metadata": {},
     "output_type": "execute_result"
    }
   ],
   "source": [
    "#test\n",
    "#preprocessInput('Aeronautics Commission Director')\n",
    "ngrams(preprocessInput('Aeronautics Commission Director'))"
   ]
  },
  {
   "cell_type": "code",
   "execution_count": 77,
   "metadata": {},
   "outputs": [],
   "source": [
    "vectorizer = TfidfVectorizer(min_df=1, analyzer=ngrams)\n",
    "tf_idf_matrix = vectorizer.fit_transform(positions['Alternate_Title'])"
   ]
  },
  {
   "cell_type": "code",
   "execution_count": 78,
   "metadata": {},
   "outputs": [
    {
     "name": "stdout",
     "output_type": "stream",
     "text": [
      "  (0, 930)\t0.2538928373626772\n",
      "  (0, 4690)\t0.2496309399736001\n",
      "  (0, 7309)\t0.1797359733701588\n",
      "  (0, 6675)\t0.17598157738619133\n",
      "  (0, 6247)\t0.30119541051660403\n",
      "  (0, 3802)\t0.27398453671218725\n",
      "  (0, 8115)\t0.2031204909473183\n",
      "  (0, 7802)\t0.15188182591903876\n",
      "  (0, 5334)\t0.18649672115279176\n",
      "  (0, 4146)\t0.18903739930676516\n",
      "  (0, 7415)\t0.18365502318156346\n",
      "  (0, 70)\t0.12461080288201144\n",
      "  (0, 1374)\t0.15889713156406035\n",
      "  (0, 6664)\t0.18546539862255665\n",
      "  (0, 6101)\t0.23478288080537368\n",
      "  (0, 6091)\t0.20778766722790035\n",
      "  (0, 5535)\t0.21850338573012396\n",
      "  (0, 7599)\t0.15330910098219244\n",
      "  (0, 7547)\t0.17940614594979037\n",
      "  (0, 5471)\t0.1116332354601592\n",
      "  (0, 6670)\t0.12083035975646189\n",
      "  (0, 6164)\t0.20331439940355003\n",
      "  (0, 82)\t0.15186159101040733\n",
      "  (0, 1515)\t0.1591741019168768\n",
      "  (0, 5507)\t0.13962953644915976\n",
      "  (0, 7182)\t0.15410085091347564\n",
      "  (0, 4498)\t0.1231384038759003\n",
      "  (0, 4157)\t0.1274325936336584\n",
      "  (0, 7847)\t0.08509889734028017\n"
     ]
    }
   ],
   "source": [
    "print(tf_idf_matrix[0])"
   ]
  },
  {
   "cell_type": "code",
   "execution_count": 146,
   "metadata": {},
   "outputs": [],
   "source": [
    "#add user input in TF-IDF matrix\n",
    "def addUserInput(userInput, positionList):\n",
    "    positionListAdded = positionList\n",
    "    \n",
    "    positionListAdded.loc[len(positionListAdded)] = userInput\n",
    "    \n",
    "    vectorizer = TfidfVectorizer(min_df=1, analyzer=ngrams)\n",
    "    tf_idf_matrix = vectorizer.fit_transform(positionListAdded)\n",
    "    positionListAdded['index_col'] = positionListAdded.index\n",
    "    return tf_idf_matrix,positionListAdded"
   ]
  },
  {
   "cell_type": "code",
   "execution_count": 149,
   "metadata": {},
   "outputs": [
    {
     "name": "stdout",
     "output_type": "stream",
     "text": [
      "(61345, 1)\n",
      "(1, 13)\n",
      "(61346, 2)\n"
     ]
    }
   ],
   "source": [
    "positionList = ps.DataFrame(positions['Alternate_Title'])\n",
    "print(positionList.shape)\n",
    "tf_idf_matrix,positionListAdded = addUserInput('Aeronautics Commission Director', positionList)\n",
    "print(tf_idf_matrix.shape)\n",
    "print(positionListAdded.shape)"
   ]
  },
  {
   "cell_type": "code",
   "execution_count": 150,
   "metadata": {},
   "outputs": [
    {
     "data": {
      "text/html": [
       "<div>\n",
       "<style scoped>\n",
       "    .dataframe tbody tr th:only-of-type {\n",
       "        vertical-align: middle;\n",
       "    }\n",
       "\n",
       "    .dataframe tbody tr th {\n",
       "        vertical-align: top;\n",
       "    }\n",
       "\n",
       "    .dataframe thead th {\n",
       "        text-align: right;\n",
       "    }\n",
       "</style>\n",
       "<table border=\"1\" class=\"dataframe\">\n",
       "  <thead>\n",
       "    <tr style=\"text-align: right;\">\n",
       "      <th></th>\n",
       "      <th>Alternate_Title</th>\n",
       "      <th>index_col</th>\n",
       "    </tr>\n",
       "  </thead>\n",
       "  <tbody>\n",
       "    <tr>\n",
       "      <th>0</th>\n",
       "      <td>Aeronautics Commission Director</td>\n",
       "      <td>0</td>\n",
       "    </tr>\n",
       "    <tr>\n",
       "      <th>1</th>\n",
       "      <td>Agricultural Services Director</td>\n",
       "      <td>1</td>\n",
       "    </tr>\n",
       "    <tr>\n",
       "      <th>2</th>\n",
       "      <td>Alcohol and Drug Abuse Assistance Program Admi...</td>\n",
       "      <td>2</td>\n",
       "    </tr>\n",
       "    <tr>\n",
       "      <th>3</th>\n",
       "      <td>Arts and Humanities Council Director</td>\n",
       "      <td>3</td>\n",
       "    </tr>\n",
       "    <tr>\n",
       "      <th>4</th>\n",
       "      <td>Bakery Manager</td>\n",
       "      <td>4</td>\n",
       "    </tr>\n",
       "  </tbody>\n",
       "</table>\n",
       "</div>"
      ],
      "text/plain": [
       "                                     Alternate_Title  index_col\n",
       "0                    Aeronautics Commission Director          0\n",
       "1                     Agricultural Services Director          1\n",
       "2  Alcohol and Drug Abuse Assistance Program Admi...          2\n",
       "3               Arts and Humanities Council Director          3\n",
       "4                                     Bakery Manager          4"
      ]
     },
     "execution_count": 150,
     "metadata": {},
     "output_type": "execute_result"
    }
   ],
   "source": [
    "positionListAdded.head(5)"
   ]
  },
  {
   "cell_type": "code",
   "execution_count": 130,
   "metadata": {},
   "outputs": [],
   "source": [
    "cos_sim = pairwise.cosine_similarity(tf_idf_matrix[61345], tf_idf_matrix)"
   ]
  },
  {
   "cell_type": "code",
   "execution_count": 155,
   "metadata": {},
   "outputs": [
    {
     "data": {
      "text/plain": [
       "(1, 61346)"
      ]
     },
     "execution_count": 155,
     "metadata": {},
     "output_type": "execute_result"
    }
   ],
   "source": [
    "cos_sim.shape"
   ]
  },
  {
   "cell_type": "code",
   "execution_count": 156,
   "metadata": {},
   "outputs": [
    {
     "name": "stdout",
     "output_type": "stream",
     "text": [
      "0.14635218718590962\n"
     ]
    }
   ],
   "source": [
    "print(cos_sim[0][1])"
   ]
  },
  {
   "cell_type": "code",
   "execution_count": 157,
   "metadata": {},
   "outputs": [
    {
     "data": {
      "text/plain": [
       "numpy.ndarray"
      ]
     },
     "execution_count": 157,
     "metadata": {},
     "output_type": "execute_result"
    }
   ],
   "source": [
    "type(cos_sim)"
   ]
  },
  {
   "cell_type": "code",
   "execution_count": 161,
   "metadata": {},
   "outputs": [],
   "source": [
    "cos_sim_df = ps.DataFrame({'cos_sim':cos_sim[0,:]})"
   ]
  },
  {
   "cell_type": "code",
   "execution_count": 162,
   "metadata": {},
   "outputs": [
    {
     "data": {
      "text/plain": [
       "(61346, 1)"
      ]
     },
     "execution_count": 162,
     "metadata": {},
     "output_type": "execute_result"
    }
   ],
   "source": [
    "cos_sim_df.shape"
   ]
  },
  {
   "cell_type": "code",
   "execution_count": 163,
   "metadata": {},
   "outputs": [
    {
     "data": {
      "text/html": [
       "<div>\n",
       "<style scoped>\n",
       "    .dataframe tbody tr th:only-of-type {\n",
       "        vertical-align: middle;\n",
       "    }\n",
       "\n",
       "    .dataframe tbody tr th {\n",
       "        vertical-align: top;\n",
       "    }\n",
       "\n",
       "    .dataframe thead th {\n",
       "        text-align: right;\n",
       "    }\n",
       "</style>\n",
       "<table border=\"1\" class=\"dataframe\">\n",
       "  <thead>\n",
       "    <tr style=\"text-align: right;\">\n",
       "      <th></th>\n",
       "      <th>cos_sim</th>\n",
       "    </tr>\n",
       "  </thead>\n",
       "  <tbody>\n",
       "    <tr>\n",
       "      <th>0</th>\n",
       "      <td>1.000000</td>\n",
       "    </tr>\n",
       "    <tr>\n",
       "      <th>1</th>\n",
       "      <td>0.146352</td>\n",
       "    </tr>\n",
       "    <tr>\n",
       "      <th>2</th>\n",
       "      <td>0.021808</td>\n",
       "    </tr>\n",
       "    <tr>\n",
       "      <th>3</th>\n",
       "      <td>0.168560</td>\n",
       "    </tr>\n",
       "    <tr>\n",
       "      <th>4</th>\n",
       "      <td>0.000000</td>\n",
       "    </tr>\n",
       "  </tbody>\n",
       "</table>\n",
       "</div>"
      ],
      "text/plain": [
       "    cos_sim\n",
       "0  1.000000\n",
       "1  0.146352\n",
       "2  0.021808\n",
       "3  0.168560\n",
       "4  0.000000"
      ]
     },
     "execution_count": 163,
     "metadata": {},
     "output_type": "execute_result"
    }
   ],
   "source": [
    "cos_sim_df.head(5)"
   ]
  },
  {
   "cell_type": "code",
   "execution_count": 164,
   "metadata": {},
   "outputs": [],
   "source": [
    "result = ps.concat([positionListAdded, cos_sim_df], axis=1)"
   ]
  },
  {
   "cell_type": "code",
   "execution_count": 165,
   "metadata": {},
   "outputs": [
    {
     "data": {
      "text/plain": [
       "(61346, 3)"
      ]
     },
     "execution_count": 165,
     "metadata": {},
     "output_type": "execute_result"
    }
   ],
   "source": [
    "result.shape"
   ]
  },
  {
   "cell_type": "code",
   "execution_count": 166,
   "metadata": {},
   "outputs": [
    {
     "data": {
      "text/html": [
       "<div>\n",
       "<style scoped>\n",
       "    .dataframe tbody tr th:only-of-type {\n",
       "        vertical-align: middle;\n",
       "    }\n",
       "\n",
       "    .dataframe tbody tr th {\n",
       "        vertical-align: top;\n",
       "    }\n",
       "\n",
       "    .dataframe thead th {\n",
       "        text-align: right;\n",
       "    }\n",
       "</style>\n",
       "<table border=\"1\" class=\"dataframe\">\n",
       "  <thead>\n",
       "    <tr style=\"text-align: right;\">\n",
       "      <th></th>\n",
       "      <th>Alternate_Title</th>\n",
       "      <th>index_col</th>\n",
       "      <th>cos_sim</th>\n",
       "    </tr>\n",
       "  </thead>\n",
       "  <tbody>\n",
       "    <tr>\n",
       "      <th>0</th>\n",
       "      <td>Aeronautics Commission Director</td>\n",
       "      <td>0</td>\n",
       "      <td>1.000000</td>\n",
       "    </tr>\n",
       "    <tr>\n",
       "      <th>1</th>\n",
       "      <td>Agricultural Services Director</td>\n",
       "      <td>1</td>\n",
       "      <td>0.146352</td>\n",
       "    </tr>\n",
       "    <tr>\n",
       "      <th>2</th>\n",
       "      <td>Alcohol and Drug Abuse Assistance Program Admi...</td>\n",
       "      <td>2</td>\n",
       "      <td>0.021808</td>\n",
       "    </tr>\n",
       "    <tr>\n",
       "      <th>3</th>\n",
       "      <td>Arts and Humanities Council Director</td>\n",
       "      <td>3</td>\n",
       "      <td>0.168560</td>\n",
       "    </tr>\n",
       "    <tr>\n",
       "      <th>4</th>\n",
       "      <td>Bakery Manager</td>\n",
       "      <td>4</td>\n",
       "      <td>0.000000</td>\n",
       "    </tr>\n",
       "  </tbody>\n",
       "</table>\n",
       "</div>"
      ],
      "text/plain": [
       "                                     Alternate_Title  index_col   cos_sim\n",
       "0                    Aeronautics Commission Director          0  1.000000\n",
       "1                     Agricultural Services Director          1  0.146352\n",
       "2  Alcohol and Drug Abuse Assistance Program Admi...          2  0.021808\n",
       "3               Arts and Humanities Council Director          3  0.168560\n",
       "4                                     Bakery Manager          4  0.000000"
      ]
     },
     "execution_count": 166,
     "metadata": {},
     "output_type": "execute_result"
    }
   ],
   "source": [
    "result.head(5)"
   ]
  },
  {
   "cell_type": "code",
   "execution_count": 167,
   "metadata": {},
   "outputs": [],
   "source": [
    "result_sorted = result.sort_values(by=['cos_sim'], ascending=False)"
   ]
  },
  {
   "cell_type": "code",
   "execution_count": 168,
   "metadata": {},
   "outputs": [
    {
     "data": {
      "text/html": [
       "<div>\n",
       "<style scoped>\n",
       "    .dataframe tbody tr th:only-of-type {\n",
       "        vertical-align: middle;\n",
       "    }\n",
       "\n",
       "    .dataframe tbody tr th {\n",
       "        vertical-align: top;\n",
       "    }\n",
       "\n",
       "    .dataframe thead th {\n",
       "        text-align: right;\n",
       "    }\n",
       "</style>\n",
       "<table border=\"1\" class=\"dataframe\">\n",
       "  <thead>\n",
       "    <tr style=\"text-align: right;\">\n",
       "      <th></th>\n",
       "      <th>Alternate_Title</th>\n",
       "      <th>index_col</th>\n",
       "      <th>cos_sim</th>\n",
       "    </tr>\n",
       "  </thead>\n",
       "  <tbody>\n",
       "    <tr>\n",
       "      <th>0</th>\n",
       "      <td>Aeronautics Commission Director</td>\n",
       "      <td>0</td>\n",
       "      <td>1.000000</td>\n",
       "    </tr>\n",
       "    <tr>\n",
       "      <th>61345</th>\n",
       "      <td>Aeronautics Commission Director</td>\n",
       "      <td>61345</td>\n",
       "      <td>1.000000</td>\n",
       "    </tr>\n",
       "    <tr>\n",
       "      <th>12411</th>\n",
       "      <td>Aeronautics Teacher</td>\n",
       "      <td>12411</td>\n",
       "      <td>0.614716</td>\n",
       "    </tr>\n",
       "    <tr>\n",
       "      <th>58190</th>\n",
       "      <td>Aeronautical Inspector</td>\n",
       "      <td>58190</td>\n",
       "      <td>0.563063</td>\n",
       "    </tr>\n",
       "    <tr>\n",
       "      <th>6301</th>\n",
       "      <td>Aeronautical Engineer</td>\n",
       "      <td>6301</td>\n",
       "      <td>0.522373</td>\n",
       "    </tr>\n",
       "  </tbody>\n",
       "</table>\n",
       "</div>"
      ],
      "text/plain": [
       "                       Alternate_Title  index_col   cos_sim\n",
       "0      Aeronautics Commission Director          0  1.000000\n",
       "61345  Aeronautics Commission Director      61345  1.000000\n",
       "12411              Aeronautics Teacher      12411  0.614716\n",
       "58190           Aeronautical Inspector      58190  0.563063\n",
       "6301             Aeronautical Engineer       6301  0.522373"
      ]
     },
     "execution_count": 168,
     "metadata": {},
     "output_type": "execute_result"
    }
   ],
   "source": [
    "result_sorted.head(5)"
   ]
  },
  {
   "cell_type": "code",
   "execution_count": 172,
   "metadata": {},
   "outputs": [
    {
     "data": {
      "text/plain": [
       "12411    Aeronautics Teacher\n",
       "Name: Alternate_Title, dtype: object"
      ]
     },
     "execution_count": 172,
     "metadata": {},
     "output_type": "execute_result"
    }
   ],
   "source": [
    "result_sorted.loc[result_sorted['cos_sim'] < 1].head(1)['Alternate_Title']"
   ]
  },
  {
   "cell_type": "code",
   "execution_count": null,
   "metadata": {},
   "outputs": [],
   "source": []
  }
 ],
 "metadata": {
  "kernelspec": {
   "display_name": "Python 3",
   "language": "python",
   "name": "python3"
  }
 },
 "nbformat": 4,
 "nbformat_minor": 2
}
