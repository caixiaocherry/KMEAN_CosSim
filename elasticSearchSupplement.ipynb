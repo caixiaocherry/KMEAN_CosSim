{
 "cells": [
  {
   "cell_type": "markdown",
   "metadata": {},
   "source": [
    "import required packages"
   ]
  },
  {
   "cell_type": "code",
   "execution_count": null,
   "metadata": {},
   "outputs": [],
   "source": [
    "import pandas as ps\n",
    "import re\n",
    "import nltk\n",
    "from sklearn.feature_extraction.text import TfidfVectorizer\n",
    "from nltk.corpus import stopwords\n",
    "from sklearn.metrics import pairwise"
   ]
  },
  {
   "cell_type": "markdown",
   "metadata": {},
   "source": [
    "define required functions"
   ]
  },
  {
   "cell_type": "code",
   "execution_count": null,
   "metadata": {},
   "outputs": [],
   "source": [
    "#preprocess raw input string\n",
    "def preprocessInput(inputPos):\n",
    "    output = ''\n",
    "    stop_words = set(stopwords.words('english'))\n",
    "    outputPos = re.sub('[^a-zA-Z0-9]', ' ', inputPos)\n",
    "    #collapase whitespaces, and lower case\n",
    "    outputPos = re.sub(r'\\W+', ' ', outputPos).lower()\n",
    "        \n",
    "    outputPosList = outputPos.split(' ')\n",
    "        \n",
    "    for w in outputPosList:\n",
    "        if w not in stop_words:\n",
    "            output = output + w + ' '\n",
    "    \n",
    "    output = output.rstrip()\n",
    "    \n",
    "    return output"
   ]
  }
 ],
 "metadata": {
  "kernelspec": {
   "display_name": "Python 3",
   "language": "python",
   "name": "python3"
  },
  "language_info": {
   "codemirror_mode": {
    "name": "ipython",
    "version": 3
   },
   "file_extension": ".py",
   "mimetype": "text/x-python",
   "name": "python",
   "nbconvert_exporter": "python",
   "pygments_lexer": "ipython3",
   "version": "3.5.5"
  }
 },
 "nbformat": 4,
 "nbformat_minor": 2
}
